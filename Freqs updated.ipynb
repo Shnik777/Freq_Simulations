{
 "cells": [
  {
   "cell_type": "code",
   "execution_count": 1,
   "metadata": {},
   "outputs": [],
   "source": [
    "import numpy as np\n",
    "import matplotlib.pyplot as plt\n",
    "import pickle\n",
    "from tqdm.notebook import tqdm, trange"
   ]
  },
  {
   "cell_type": "code",
   "execution_count": 2,
   "metadata": {},
   "outputs": [],
   "source": [
    "#Setting frequencies\n",
    "fb = 10.0\n",
    "temp0 = fb/10.7051#10.6057#10.7051\n",
    "temp1 = fb/11.9713#9.2003#2.9003\n",
    "temp2 = fb/12.6515#9.3001#3.4003\n",
    "temp3 = fb/9.2778#9.4001#3.9001\n",
    "temp4 = fb/7.7315#4.4003#4.4003\n",
    "m = 1000\n"
   ]
  },
  {
   "cell_type": "code",
   "execution_count": 3,
   "metadata": {},
   "outputs": [],
   "source": [
    "#Setting frequencies\n",
    "fb = 10.0\n",
    "fb2 = fb*temp0\n",
    "f1 = fb*temp1\n",
    "f2 = fb*temp2\n",
    "f3 = fb*temp3\n",
    "f4 = fb*temp4\n",
    "m = 1000\n"
   ]
  },
  {
   "cell_type": "code",
   "execution_count": null,
   "metadata": {},
   "outputs": [],
   "source": [
    "f1\n",
    "fb*fb/20"
   ]
  },
  {
   "cell_type": "code",
   "execution_count": 4,
   "metadata": {},
   "outputs": [],
   "source": [
    "a = np.arange(2000000)"
   ]
  },
  {
   "cell_type": "code",
   "execution_count": null,
   "metadata": {
    "scrolled": false
   },
   "outputs": [],
   "source": [
    "#plt.plot(np.cos(a/(fb*1000)))"
   ]
  },
  {
   "cell_type": "code",
   "execution_count": null,
   "metadata": {},
   "outputs": [],
   "source": [
    "#plt.plot(np.cos(a/(f1*1000)))"
   ]
  },
  {
   "cell_type": "code",
   "execution_count": 5,
   "metadata": {},
   "outputs": [],
   "source": [
    "#Creating \n",
    "base = np.cos(a/(fb*m))\n",
    "base2 = np.cos(a/(fb2*m))\n",
    "c1 = np.cos(a/(f1*m))\n",
    "c2 = np.cos(a/(f2*m))\n",
    "c3 = np.cos(a/(f3*m))\n",
    "c4 = np.cos(a/(f4*m))"
   ]
  },
  {
   "cell_type": "code",
   "execution_count": 6,
   "metadata": {},
   "outputs": [],
   "source": [
    "base[base>=0] = 1\n",
    "base[base<0] = 0\n",
    "base2[base2>=0] = 1\n",
    "base2[base2<0] = 0\n",
    "c1[c1>=0] = 1\n",
    "c1[c1<0] = 0\n",
    "c2[c2>=0] = 1\n",
    "c2[c2<0] = 0\n",
    "c3[c3>=0] = 1\n",
    "c3[c3<0] = 0\n",
    "c4[c4>=0] = 1\n",
    "c4[c4<0] = 0"
   ]
  },
  {
   "cell_type": "code",
   "execution_count": null,
   "metadata": {
    "scrolled": false
   },
   "outputs": [],
   "source": [
    "plt.plot(base)"
   ]
  },
  {
   "cell_type": "code",
   "execution_count": null,
   "metadata": {},
   "outputs": [],
   "source": [
    "plt.plot(base2)"
   ]
  },
  {
   "cell_type": "code",
   "execution_count": 7,
   "metadata": {},
   "outputs": [],
   "source": [
    "clocks = [c1, c2, c3, c4]"
   ]
  },
  {
   "cell_type": "code",
   "execution_count": 8,
   "metadata": {},
   "outputs": [],
   "source": [
    "crs = np.zeros((500, 2000000), dtype='int8')\n",
    "crs2 = np.zeros((500, 2000000), dtype='int8')"
   ]
  },
  {
   "cell_type": "code",
   "execution_count": null,
   "metadata": {},
   "outputs": [],
   "source": []
  },
  {
   "cell_type": "code",
   "execution_count": 9,
   "metadata": {},
   "outputs": [
    {
     "data": {
      "application/vnd.jupyter.widget-view+json": {
       "model_id": "5bdb2f9e196f432dbffe57c7a753bf7c",
       "version_major": 2,
       "version_minor": 0
      },
      "text/plain": [
       "  0%|          | 0/500 [00:00<?, ?it/s]"
      ]
     },
     "metadata": {},
     "output_type": "display_data"
    }
   ],
   "source": [
    "for i in trange(crs.shape[0]):\n",
    "    clock = clocks[np.random.choice(np.arange(4))]\n",
    "    clock2 = clocks[np.random.choice(np.arange(4))]\n",
    "    crs[i, 0] = clock[0]\n",
    "    crs2[i,0] = clock2[0]\n",
    "    for j in range(1,crs.shape[1]):\n",
    "        if base[j] == 1 and base[j-1] == 0:\n",
    "            clock = clocks[np.random.choice(np.arange(4))]\n",
    "        crs[i, j] = clock[j]\n",
    "        if base2[j] == 1 and base2[j-1] == 0:\n",
    "            clock2 = clocks[np.random.choice(np.arange(4))]\n",
    "        crs2[i, j] = clock2[j]"
   ]
  },
  {
   "cell_type": "code",
   "execution_count": 10,
   "metadata": {
    "scrolled": false
   },
   "outputs": [],
   "source": [
    "plt.plot(crs[1])"
   ]
  },
  {
   "cell_type": "code",
   "execution_count": null,
   "metadata": {},
   "outputs": [],
   "source": [
    "plt.plot(crs2[1])"
   ]
  },
  {
   "cell_type": "code",
   "execution_count": null,
   "metadata": {},
   "outputs": [],
   "source": [
    "ones = []"
   ]
  },
  {
   "cell_type": "code",
   "execution_count": null,
   "metadata": {},
   "outputs": [],
   "source": [
    "for i in range(crs.shape[0]):\n",
    "    ones += [np.convolve(np.where(np.convolve(crs[i], [1, -1])==1)[0], [1, -1])]\n"
   ]
  },
  {
   "cell_type": "code",
   "execution_count": null,
   "metadata": {},
   "outputs": [],
   "source": [
    "with open('freqs4.pkl','wb') as f:\n",
    "    pickle.dump(ones, f)"
   ]
  },
  {
   "cell_type": "code",
   "execution_count": null,
   "metadata": {},
   "outputs": [],
   "source": [
    "ones = []"
   ]
  },
  {
   "cell_type": "code",
   "execution_count": null,
   "metadata": {},
   "outputs": [],
   "source": [
    "for i in range(crs2.shape[0]):\n",
    "    ones += [np.convolve(np.where(np.convolve(crs2[i], [1, -1])==1)[0], [1, -1])]"
   ]
  },
  {
   "cell_type": "code",
   "execution_count": null,
   "metadata": {},
   "outputs": [],
   "source": [
    "with open('freqs5.pkl','wb') as f:\n",
    "    pickle.dump(ones, f)"
   ]
  },
  {
   "cell_type": "code",
   "execution_count": null,
   "metadata": {},
   "outputs": [],
   "source": [
    "#np.save(\"freqs2.npy\", pickled)\n",
    "#ones"
   ]
  },
  {
   "cell_type": "code",
   "execution_count": null,
   "metadata": {},
   "outputs": [],
   "source": [
    "#ones = np.array(ones)"
   ]
  },
  {
   "cell_type": "code",
   "execution_count": null,
   "metadata": {},
   "outputs": [],
   "source": [
    "value = np.convolve(crs[1], [1, -1])+ np.convolve(crs2[1], [1, -1])\n",
    "#ones=[np.convolve(np.where(value == 2)[0], [1, -1])]\n",
    "print(np.where(value == 1)[0])"
   ]
  },
  {
   "cell_type": "code",
   "execution_count": null,
   "metadata": {
    "scrolled": true
   },
   "outputs": [],
   "source": [
    "ones = []\n",
    "for i in range(crs.shape[0]):\n",
    "    value = np.convolve(crs[i], [1, -1])+ np.convolve(crs2[i], [1, -1])\n",
    "    ones += [np.convolve(np.where((value == 1) | (value == 2))[0], [1, -1])]\n",
    "ones\n",
    "value"
   ]
  },
  {
   "cell_type": "code",
   "execution_count": null,
   "metadata": {},
   "outputs": [],
   "source": [
    "with open('freqs6.pkl','wb') as f:\n",
    "    pickle.dump(ones, f)"
   ]
  },
  {
   "cell_type": "code",
   "execution_count": null,
   "metadata": {
    "scrolled": true
   },
   "outputs": [],
   "source": [
    "overlaps = []\n",
    "noneoverlaps = []\n",
    "for i in range(crs.shape[0]):\n",
    "    overlaps += [np.convolve(np.where((np.convolve(crs[i], [1, -1])+np.convolve(crs2[i], [1, -1]))==2)[0], [1, -1])]\n",
    "    noneoverlaps += [np.convolve(np.where((np.convolve(crs[i], [1, -1])+np.convolve(crs2[i], [1, -1]))==1)[0], [1, -1])]\n",
    "overlaps1 = [overlaps[i][1:-1] for i in range(len(overlaps))]\n",
    "noneoverlaps1 = [noneoverlaps[i][1:-1] for i in range(len(noneoverlaps))]\n",
    "\n",
    "finaloverlaps = overlaps1[0].tolist()\n",
    "for i in range(1, len(overlaps1)):\n",
    "    finaloverlaps += overlaps1[i].tolist()\n",
    "    \n",
    "finalnoneoverlaps = noneoverlaps1[0].tolist()\n",
    "for i in range(1, len(overlaps1)):\n",
    "    finalnoneoverlaps += noneoverlaps1[i].tolist()\n",
    "len(finaloverlaps)/(len(finaloverlaps)+len(finalnoneoverlaps))"
   ]
  },
  {
   "cell_type": "code",
   "execution_count": null,
   "metadata": {},
   "outputs": [],
   "source": [
    "\n",
    "plt.plot(np.convolve(crs[1], [1, -1])+ np.convolve(crs2[1], [1, -1]),linewidth=0.4)\n",
    "plt.plot(np.convolve(crs[1], [1, -1]),linewidth=0.5)\n",
    "plt.plot(np.convolve(crs2[1], [1, -1]),linewidth=0.4)\n",
    "\n",
    "#plt.show()"
   ]
  },
  {
   "cell_type": "code",
   "execution_count": null,
   "metadata": {},
   "outputs": [],
   "source": [
    "#temp = [i[1:-1] for i in ones]"
   ]
  },
  {
   "cell_type": "code",
   "execution_count": null,
   "metadata": {},
   "outputs": [],
   "source": [
    "#plt.hist(temp)"
   ]
  },
  {
   "cell_type": "code",
   "execution_count": null,
   "metadata": {},
   "outputs": [],
   "source": [
    "with open('freqs1.pkl','rb') as f:\n",
    "     freqs1 = pickle.load(f)"
   ]
  },
  {
   "cell_type": "code",
   "execution_count": null,
   "metadata": {},
   "outputs": [],
   "source": [
    "with open('freqs2.pkl','rb') as f:\n",
    "     freqs2 = pickle.load(f)"
   ]
  },
  {
   "cell_type": "code",
   "execution_count": null,
   "metadata": {},
   "outputs": [],
   "source": [
    "with open('freqs3.pkl','rb') as f:\n",
    "     freqs3 = pickle.load(f)"
   ]
  },
  {
   "cell_type": "code",
   "execution_count": null,
   "metadata": {},
   "outputs": [],
   "source": [
    "with open('freqs4.pkl','rb') as f:\n",
    "     freqs4 = pickle.load(f)"
   ]
  },
  {
   "cell_type": "code",
   "execution_count": null,
   "metadata": {},
   "outputs": [],
   "source": [
    "with open('freqs5.pkl','rb') as f:\n",
    "     freqs5 = pickle.load(f)"
   ]
  },
  {
   "cell_type": "code",
   "execution_count": null,
   "metadata": {},
   "outputs": [],
   "source": [
    "with open('freqs6.pkl','rb') as f:\n",
    "     freqs6 = pickle.load(f)"
   ]
  },
  {
   "cell_type": "code",
   "execution_count": null,
   "metadata": {},
   "outputs": [],
   "source": [
    "#d = [np.load(\"freqs{}.npy\".format(i)) for i in range(1,3)]\n",
    "#d"
   ]
  },
  {
   "cell_type": "code",
   "execution_count": null,
   "metadata": {},
   "outputs": [],
   "source": []
  },
  {
   "cell_type": "code",
   "execution_count": null,
   "metadata": {},
   "outputs": [],
   "source": []
  },
  {
   "cell_type": "code",
   "execution_count": null,
   "metadata": {},
   "outputs": [],
   "source": [
    "d1 = [freqs1[i][1:-1] for i in range(len(freqs1))]"
   ]
  },
  {
   "cell_type": "code",
   "execution_count": null,
   "metadata": {
    "scrolled": true
   },
   "outputs": [],
   "source": [
    "plt.plot(d1[1])"
   ]
  },
  {
   "cell_type": "code",
   "execution_count": null,
   "metadata": {},
   "outputs": [],
   "source": [
    "d2 = [freqs2[i][1:-1] for i in range(len(freqs2))]\n",
    "#plt.plot(d2[1])"
   ]
  },
  {
   "cell_type": "code",
   "execution_count": null,
   "metadata": {},
   "outputs": [],
   "source": [
    "plt.plot(d3[1])"
   ]
  },
  {
   "cell_type": "code",
   "execution_count": null,
   "metadata": {},
   "outputs": [],
   "source": [
    "d3 = [freqs3[i][1:-1] for i in range(len(freqs3))]"
   ]
  },
  {
   "cell_type": "code",
   "execution_count": null,
   "metadata": {},
   "outputs": [],
   "source": [
    "d4 = [freqs4[i][1:-1] for i in range(len(freqs4))]"
   ]
  },
  {
   "cell_type": "code",
   "execution_count": null,
   "metadata": {},
   "outputs": [],
   "source": [
    "d5 = [freqs5[i][1:-1] for i in range(len(freqs5))]"
   ]
  },
  {
   "cell_type": "code",
   "execution_count": null,
   "metadata": {},
   "outputs": [],
   "source": [
    "d6 = [freqs6[i][1:-1] for i in range(len(freqs6))]"
   ]
  },
  {
   "cell_type": "code",
   "execution_count": null,
   "metadata": {},
   "outputs": [],
   "source": [
    "dd1 = d1[0].tolist()\n",
    "for i in range(1, len(d1)):\n",
    "    dd1 += d1[i].tolist()"
   ]
  },
  {
   "cell_type": "code",
   "execution_count": null,
   "metadata": {},
   "outputs": [],
   "source": [
    "dd2 = d2[0].tolist()\n",
    "for i in range(1, len(d2)):\n",
    "    dd2 += d2[i].tolist()"
   ]
  },
  {
   "cell_type": "code",
   "execution_count": null,
   "metadata": {},
   "outputs": [],
   "source": [
    "dd3 = d3[0].tolist()\n",
    "for i in range(1, len(d3)):\n",
    "    dd3 += d3[i].tolist()"
   ]
  },
  {
   "cell_type": "code",
   "execution_count": null,
   "metadata": {},
   "outputs": [],
   "source": [
    "dd4 = d4[0].tolist()\n",
    "for i in range(1, len(d4)):\n",
    "    dd4 += d4[i].tolist()"
   ]
  },
  {
   "cell_type": "code",
   "execution_count": null,
   "metadata": {},
   "outputs": [],
   "source": [
    "dd5 = d5[0].tolist()\n",
    "for i in range(1, len(d5)):\n",
    "    dd5 += d5[i].tolist()"
   ]
  },
  {
   "cell_type": "code",
   "execution_count": null,
   "metadata": {},
   "outputs": [],
   "source": [
    "dd6 = d6[0].tolist()\n",
    "for i in range(1, len(d6)):\n",
    "    dd6 += d6[i].tolist()"
   ]
  },
  {
   "cell_type": "code",
   "execution_count": null,
   "metadata": {},
   "outputs": [],
   "source": [
    "dd = dd1+dd2#+dd3+dd4#+dd5+dd6"
   ]
  },
  {
   "cell_type": "code",
   "execution_count": null,
   "metadata": {},
   "outputs": [],
   "source": [
    "dd9 = dd3+dd6"
   ]
  },
  {
   "cell_type": "code",
   "execution_count": null,
   "metadata": {
    "scrolled": true
   },
   "outputs": [],
   "source": [
    "x = np.array(dd9)\n",
    "print(len(np.unique(x)))"
   ]
  },
  {
   "cell_type": "code",
   "execution_count": null,
   "metadata": {
    "scrolled": true
   },
   "outputs": [],
   "source": [
    "print(len(x))"
   ]
  },
  {
   "cell_type": "code",
   "execution_count": null,
   "metadata": {
    "scrolled": true
   },
   "outputs": [],
   "source": [
    "act = (fb*fb)/(x/(2000000*3.1416)*1000)\n",
    "#act"
   ]
  },
  {
   "cell_type": "code",
   "execution_count": null,
   "metadata": {},
   "outputs": [],
   "source": [
    "max_value = 100\n",
    "\n",
    "act = act[act <= max_value]\n",
    "print(len(x)-len(act))"
   ]
  },
  {
   "cell_type": "code",
   "execution_count": null,
   "metadata": {
    "scrolled": false
   },
   "outputs": [],
   "source": [
    "plt.hist(act, bins=200)\n",
    "plt.show()"
   ]
  },
  {
   "cell_type": "code",
   "execution_count": null,
   "metadata": {},
   "outputs": [],
   "source": [
    "plt.hist(act, bins=200)"
   ]
  },
  {
   "cell_type": "code",
   "execution_count": null,
   "metadata": {
    "scrolled": true
   },
   "outputs": [],
   "source": [
    "hist = np.histogram(act, bins=200)\n",
    "histArr = list(zip(hist[0], hist[1]))\n",
    "histArr"
   ]
  },
  {
   "cell_type": "code",
   "execution_count": null,
   "metadata": {},
   "outputs": [],
   "source": [
    "for bin_count, bin_edge in histArr:\n",
    "    # Determine the frequency range corresponding to the bin edge\n",
    "    frequency_range = f\"({bin_edge:.2f}, {(bin_edge + hist[1][1]):.2f})\"\n",
    "    \n",
    "    # Print the frequency range and the corresponding bin count\n",
    "    print(f\"Frequency Range: {frequency_range}, Bin Count: {bin_count}\")"
   ]
  },
  {
   "cell_type": "code",
   "execution_count": null,
   "metadata": {},
   "outputs": [],
   "source": [
    "plt.hist(x, bins=200)"
   ]
  },
  {
   "cell_type": "code",
   "execution_count": null,
   "metadata": {},
   "outputs": [],
   "source": [
    "print(x)"
   ]
  },
  {
   "cell_type": "code",
   "execution_count": null,
   "metadata": {},
   "outputs": [],
   "source": []
  }
 ],
 "metadata": {
  "kernelspec": {
   "display_name": "Python 3 (ipykernel)",
   "language": "python",
   "name": "python3"
  },
  "language_info": {
   "codemirror_mode": {
    "name": "ipython",
    "version": 3
   },
   "file_extension": ".py",
   "mimetype": "text/x-python",
   "name": "python",
   "nbconvert_exporter": "python",
   "pygments_lexer": "ipython3",
   "version": "3.10.11"
  }
 },
 "nbformat": 4,
 "nbformat_minor": 4
}
